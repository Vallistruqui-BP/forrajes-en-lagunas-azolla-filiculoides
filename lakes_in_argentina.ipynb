{
 "cells": [
  {
   "cell_type": "code",
   "execution_count": 1,
   "metadata": {
    "id": "krsLgVBYZw_A"
   },
   "outputs": [],
   "source": [
    "#@title Copyright 2019 Google LLC. { display-mode: \"form\" }\n",
    "# Licensed under the Apache License, Version 2.0 (the \"License\");\n",
    "# you may not use this file except in compliance with the License.\n",
    "# You may obtain a copy of the License at\n",
    "#\n",
    "# https://www.apache.org/licenses/LICENSE-2.0\n",
    "#\n",
    "# Unless required by applicable law or agreed to in writing, software\n",
    "# distributed under the License is distributed on an \"AS IS\" BASIS,\n",
    "# WITHOUT WARRANTIES OR CONDITIONS OF ANY KIND, either express or implied.\n",
    "# See the License for the specific language governing permissions and\n",
    "# limitations under the License.\n",
    "\n",
    "# This is the code link https://github.com/google/earthengine-community/blob/master/guides/linked/ee-api-colab-setup.ipynb"
   ]
  },
  {
   "cell_type": "code",
   "execution_count": null,
   "id": "979fe7df",
   "metadata": {},
   "outputs": [],
   "source": [
    "\n",
    "# 📌 CONFIGURACIÓN DEL PROYECTO\n",
    "\n",
    "# Umbral NDWI para detectar agua\n",
    "NDWI_THRESHOLD = 0.2\n",
    "\n",
    "# Tamaño del buffer (en metros) para agrupar polígonos cercanos\n",
    "BUFFER_SIZE = 20\n",
    "\n",
    "# Área mínima (en m²) de los polígonos a conservar\n",
    "MIN_POLYGON_AREA = 300\n",
    "\n",
    "# Porcentaje máximo de nubes permitido\n",
    "CLOUD_COVER_MAX = 10\n",
    "\n",
    "# Colección Sentinel a usar\n",
    "SENTINEL_COLLECTION = 'COPERNICUS/S2_SR_HARMONIZED'\n",
    "\n",
    "# Carpeta de exportación en Google Drive\n",
    "EXPORT_FOLDER = 'Azolla Filiculoides - Geojson Lagunas'\n",
    "\n",
    "# Activar suavizado individual de polígonos (cierra huecos internos sin unir lagos entre sí)\n",
    "SMOOTH_POLYGONS = True\n",
    "\n",
    "SMOOTH_BUFFER_SIZE = 40  # ⬅️ new variable to help close internal holes\n"
   ]
  },
  {
   "cell_type": "markdown",
   "metadata": {
    "id": "aV1xZ1CPi3Nw"
   },
   "source": [
    "<table class=\"ee-notebook-buttons\" align=\"left\"><td>\n",
    "<a target=\"_blank\"  href=\"http://colab.research.google.com/github/google/earthengine-community/blob/master/guides/linked/ee-api-colab-setup.ipynb\">\n",
    "    <img src=\"https://www.tensorflow.org/images/colab_logo_32px.png\" /> Run in Google Colab</a>\n",
    "</td><td>\n",
    "<a target=\"_blank\"  href=\"https://github.com/google/earthengine-community/blob/master/guides/linked/ee-api-colab-setup.ipynb\"><img width=32px src=\"https://www.tensorflow.org/images/GitHub-Mark-32px.png\" /> View source on GitHub</a></td></table>"
   ]
  },
  {
   "cell_type": "markdown",
   "metadata": {
    "id": "s-dN42MTzg-w"
   },
   "source": [
    "### Authenticate and initialize\n",
    "\n",
    "Run the `ee.Authenticate` function to authenticate your access to Earth Engine servers and `ee.Initialize` to initialize it. Upon running the following cell you'll be asked to grant Earth Engine access to your Google account. Follow the instructions printed to the cell."
   ]
  },
  {
   "cell_type": "markdown",
   "metadata": {},
   "source": [
    "# Select Area Interactively"
   ]
  },
  {
   "cell_type": "code",
   "execution_count": 2,
   "metadata": {},
   "outputs": [
    {
     "name": "stderr",
     "output_type": "stream",
     "text": [
      "C:\\Users\\pedro\\AppData\\Local\\Packages\\PythonSoftwareFoundation.Python.3.13_qbz5n2kfra8p0\\LocalCache\\local-packages\\Python313\\site-packages\\geemap\\conversion.py:23: UserWarning: pkg_resources is deprecated as an API. See https://setuptools.pypa.io/en/latest/pkg_resources.html. The pkg_resources package is slated for removal as early as 2025-11-30. Refrain from using this package or pin to Setuptools<81.\n",
      "  import pkg_resources\n"
     ]
    },
    {
     "data": {
      "application/vnd.jupyter.widget-view+json": {
       "model_id": "7dffb839dcd142c4be5878374f68b538",
       "version_major": 2,
       "version_minor": 0
      },
      "text/plain": [
       "FloatSlider(value=0.2, continuous_update=False, description='NDWI Threshold:', max=0.5, min=0.1, step=0.01)"
      ]
     },
     "metadata": {},
     "output_type": "display_data"
    },
    {
     "data": {
      "application/vnd.jupyter.widget-view+json": {
       "model_id": "b6964f69cc894638bb8e599ca758c9c3",
       "version_major": 2,
       "version_minor": 0
      },
      "text/plain": [
       "Map(center=[-36.5, -60], controls=(WidgetControl(options=['position', 'transparent_bg'], widget=SearchDataGUI(…"
      ]
     },
     "execution_count": 2,
     "metadata": {},
     "output_type": "execute_result"
    }
   ],
   "source": [
    "\n",
    "# 📦 Imports\n",
    "import ee\n",
    "import geemap\n",
    "import ipywidgets as widgets\n",
    "from IPython.display import display\n",
    "from ipyleaflet import WidgetControl\n",
    "from ipywidgets import HTML\n",
    "\n",
    "# 🌍 Inicialización Earth Engine\n",
    "try:\n",
    "    ee.Initialize()\n",
    "except:\n",
    "    ee.Authenticate()\n",
    "    ee.Initialize()\n",
    "\n",
    "# 🗺️ Mapa\n",
    "Map = geemap.Map(center=[-36.5, -60], zoom=6)\n",
    "Map.add_basemap('Esri.WorldImagery')\n",
    "Map.add_draw_control()\n",
    "\n",
    "# 🎚️ NDWI Slider\n",
    "ndwi_slider = widgets.FloatSlider(\n",
    "    value=NDWI_THRESHOLD, min=0.1, max=0.5, step=0.01,\n",
    "    description='NDWI Threshold:', continuous_update=False\n",
    ")\n",
    "display(ndwi_slider)\n",
    "\n",
    "# 🧠 Estado actual\n",
    "current_roi = None\n",
    "\n",
    "# 🧹 Función para limpiar capas previas\n",
    "def remove_ee_layers(map_obj):\n",
    "    ee_layers = [lyr for lyr in map_obj.layers if hasattr(lyr, 'ee_object')]\n",
    "    for lyr in ee_layers:\n",
    "        map_obj.remove_layer(lyr)\n",
    "\n",
    "# 🧠 Función principal: detección y exportación de cuerpos de agua\n",
    "def extract_water_polygons(ndwi_threshold):\n",
    "    if not current_roi:\n",
    "        print(\"⚠️ Seleccioná una región.\")\n",
    "        return\n",
    "\n",
    "    geom = current_roi\n",
    "\n",
    "    s2 = ee.ImageCollection(SENTINEL_COLLECTION) \\\n",
    "        .filterBounds(geom) \\\n",
    "        .filter(ee.Filter.lt('CLOUDY_PIXEL_PERCENTAGE', CLOUD_COVER_MAX)) \\\n",
    "        .sort('system:time_start', False) \\\n",
    "        .first()\n",
    "\n",
    "    img_date = s2.date().format('YYYY-MM-dd').getInfo()\n",
    "    print(f\"📅 Imagen Sentinel-2: {img_date}\")\n",
    "\n",
    "    remove_ee_layers(Map)\n",
    "\n",
    "    vis_params = {'bands': ['B4', 'B3', 'B2'], 'min': 0, 'max': 3000}\n",
    "    Map.addLayer(s2.clip(geom), vis_params, 'Sentinel-2 RGB')\n",
    "\n",
    "    date_label = HTML(value=f\"<b>Imagen:</b> {img_date}\")\n",
    "    date_control = WidgetControl(widget=date_label, position='topright')\n",
    "    Map.add_control(date_control)\n",
    "\n",
    "    # NDWI\n",
    "    ndwi = s2.normalizedDifference(['B3', 'B8']).rename('NDWI')\n",
    "    water_mask = ndwi.gt(ndwi_threshold)\n",
    "    water_mask_int = water_mask.updateMask(water_mask).multiply(1).toInt()\n",
    "\n",
    "    vectors = water_mask_int.reduceToVectors(\n",
    "        geometry=geom,\n",
    "        scale=10,\n",
    "        geometryType='polygon',\n",
    "        eightConnected=True,\n",
    "        labelProperty='water',\n",
    "        bestEffort=True,\n",
    "        maxPixels=1e9\n",
    "    )\n",
    "\n",
    "    vectors = vectors.map(lambda f: f.set('area', f.geometry().area(1)))\n",
    "    vectors = vectors.filter(ee.Filter.gt('area', MIN_POLYGON_AREA))\n",
    "\n",
    "    # 🔁 Suavizado individual de polígonos (cierra huecos internos)\n",
    "    def smooth_and_fill(f):\n",
    "        g = f.geometry().buffer(BUFFER_SIZE).buffer(-BUFFER_SIZE)\n",
    "        return ee.Feature(g).copyProperties(f)\n",
    "    \n",
    "        if SMOOTH_POLYGONS:\n",
    "            vectors = vectors.map(lambda f: ee.Feature(\n",
    "                f.geometry().buffer(SMOOTH_BUFFER_SIZE).buffer(-SMOOTH_BUFFER_SIZE)\n",
    "            ).copyProperties(f))\n",
    "\n",
    "\n",
    "    if SMOOTH_POLYGONS:\n",
    "        vectors = vectors.map(smooth_and_fill)\n",
    "\n",
    "    union_fc = vectors\n",
    "\n",
    "    size = union_fc.size().getInfo()\n",
    "    if size == 0:\n",
    "        print(\"⚠️ No se detectaron polígonos.\")\n",
    "        return\n",
    "\n",
    "    Map.addLayer(ndwi.clip(geom), {'min': -1, 'max': 1, 'palette': ['white', 'blue']}, 'NDWI')\n",
    "    Map.addLayer(water_mask_int.clip(geom).selfMask(), {'palette': 'blue'}, 'Water Mask')\n",
    "    Map.addLayer(union_fc, {'color': 'cyan'}, 'Water Polygons')\n",
    "\n",
    "    print(f\"✅ {size} polígonos generados.\")\n",
    "\n",
    "    # Exportar a Google Drive\n",
    "    export_name = f'agua_{img_date.replace(\"-\", \"\")}_ndwi{int(ndwi_threshold*100)}'\n",
    "    task = ee.batch.Export.table.toDrive(\n",
    "        collection=union_fc,\n",
    "        description=export_name,\n",
    "        folder=EXPORT_FOLDER,\n",
    "        fileNamePrefix=export_name,\n",
    "        fileFormat='GeoJSON'\n",
    "    )\n",
    "    task.start()\n",
    "    print(f\"🚀 Exportando a Drive como: {export_name}.geojson → /{EXPORT_FOLDER}\")\n",
    "\n",
    "# 🎯 Slider trigger\n",
    "ndwi_slider.observe(lambda change: extract_water_polygons(ndwi_slider.value), names='value')\n",
    "\n",
    "# ✏️ Dibujo en el mapa\n",
    "def on_draw_callback(target, action, geo_json):\n",
    "    global current_roi\n",
    "    geom_type = geo_json.get('geometry', {}).get('type')\n",
    "    if geom_type in ['Polygon', 'Rectangle']:\n",
    "        current_roi = geemap.geojson_to_ee(geo_json)\n",
    "        extract_water_polygons(ndwi_slider.value)\n",
    "    else:\n",
    "        print(\"⚠️ Usá solo polígono o rectángulo.\")\n",
    "\n",
    "Map.draw_control.on_draw(on_draw_callback)\n",
    "\n",
    "# Mostrar el mapa\n",
    "Map\n",
    "\n",
    "\n",
    "# POTENCIALES MEJORAS FUTURAS:\n",
    "# * Hacer que corra por un intervalo de NDWI asi podes agarrar todas las masas de agua detectadas de 0.2-0.3 por ejemplo y despues se mergean todos los poligonos entre ellos y se consigue el mejor resultado posible."
   ]
  }
 ],
 "metadata": {
  "colab": {
   "collapsed_sections": [],
   "name": "ee-api-colab-setup.ipynb",
   "provenance": [],
   "toc_visible": true
  },
  "kernelspec": {
   "display_name": "Python 3",
   "name": "python3"
  },
  "language_info": {
   "codemirror_mode": {
    "name": "ipython",
    "version": 3
   },
   "file_extension": ".py",
   "mimetype": "text/x-python",
   "name": "python",
   "nbconvert_exporter": "python",
   "pygments_lexer": "ipython3",
   "version": "3.13.5"
  }
 },
 "nbformat": 4,
 "nbformat_minor": 0
}
