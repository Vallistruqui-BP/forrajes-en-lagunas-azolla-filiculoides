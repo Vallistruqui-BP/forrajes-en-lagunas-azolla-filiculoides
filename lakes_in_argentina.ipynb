{
 "cells": [
  {
   "cell_type": "code",
   "execution_count": 1,
   "metadata": {
    "id": "krsLgVBYZw_A"
   },
   "outputs": [],
   "source": [
    "#@title Copyright 2019 Google LLC. { display-mode: \"form\" }\n",
    "# Licensed under the Apache License, Version 2.0 (the \"License\");\n",
    "# you may not use this file except in compliance with the License.\n",
    "# You may obtain a copy of the License at\n",
    "#\n",
    "# https://www.apache.org/licenses/LICENSE-2.0\n",
    "#\n",
    "# Unless required by applicable law or agreed to in writing, software\n",
    "# distributed under the License is distributed on an \"AS IS\" BASIS,\n",
    "# WITHOUT WARRANTIES OR CONDITIONS OF ANY KIND, either express or implied.\n",
    "# See the License for the specific language governing permissions and\n",
    "# limitations under the License.\n",
    "\n",
    "# This is the code link https://github.com/google/earthengine-community/blob/master/guides/linked/ee-api-colab-setup.ipynb"
   ]
  },
  {
   "cell_type": "code",
   "execution_count": 4,
   "id": "979fe7df",
   "metadata": {},
   "outputs": [
    {
     "data": {
      "text/html": [
       "\n",
       "            <style>\n",
       "                .geemap-dark {\n",
       "                    --jp-widgets-color: white;\n",
       "                    --jp-widgets-label-color: white;\n",
       "                    --jp-ui-font-color1: white;\n",
       "                    --jp-layout-color2: #454545;\n",
       "                    background-color: #383838;\n",
       "                }\n",
       "\n",
       "                .geemap-dark .jupyter-button {\n",
       "                    --jp-layout-color3: #383838;\n",
       "                }\n",
       "\n",
       "                .geemap-colab {\n",
       "                    background-color: var(--colab-primary-surface-color, white);\n",
       "                }\n",
       "\n",
       "                .geemap-colab .jupyter-button {\n",
       "                    --jp-layout-color3: var(--colab-primary-surface-color, white);\n",
       "                }\n",
       "            </style>\n",
       "            "
      ],
      "text/plain": [
       "<IPython.core.display.HTML object>"
      ]
     },
     "metadata": {},
     "output_type": "display_data"
    }
   ],
   "source": [
    "\n",
    "# 📌 CONFIGURACIÓN DEL PROYECTO\n",
    "\n",
    "# Umbral NDWI para detectar agua\n",
    "NDWI_THRESHOLD = 0.2\n",
    "\n",
    "# Tamaño del buffer (en metros) para agrupar polígonos cercanos\n",
    "BUFFER_SIZE = 20\n",
    "\n",
    "# Área mínima (en m²) de los polígonos a conservar\n",
    "MIN_POLYGON_AREA = 300\n",
    "\n",
    "# Porcentaje máximo de nubes permitido\n",
    "CLOUD_COVER_MAX = 10\n",
    "\n",
    "# Colección Sentinel a usar\n",
    "SENTINEL_COLLECTION = 'COPERNICUS/S2_SR_HARMONIZED'\n",
    "\n",
    "# Carpeta de exportación en Google Drive\n",
    "EXPORT_FOLDER = 'Azolla Filiculoides - Geojson Lagunas'\n",
    "\n",
    "# Activar suavizado individual de polígonos (cierra huecos internos sin unir lagos entre sí)\n",
    "SMOOTH_POLYGONS = True\n",
    "\n",
    "SMOOTH_BUFFER_SIZE = 40  # ⬅️ new variable to help close internal holes\n"
   ]
  },
  {
   "cell_type": "markdown",
   "metadata": {
    "id": "aV1xZ1CPi3Nw"
   },
   "source": [
    "<table class=\"ee-notebook-buttons\" align=\"left\"><td>\n",
    "<a target=\"_blank\"  href=\"http://colab.research.google.com/github/google/earthengine-community/blob/master/guides/linked/ee-api-colab-setup.ipynb\">\n",
    "    <img src=\"https://www.tensorflow.org/images/colab_logo_32px.png\" /> Run in Google Colab</a>\n",
    "</td><td>\n",
    "<a target=\"_blank\"  href=\"https://github.com/google/earthengine-community/blob/master/guides/linked/ee-api-colab-setup.ipynb\"><img width=32px src=\"https://www.tensorflow.org/images/GitHub-Mark-32px.png\" /> View source on GitHub</a></td></table>"
   ]
  },
  {
   "cell_type": "markdown",
   "metadata": {
    "id": "s-dN42MTzg-w"
   },
   "source": [
    "### Authenticate and initialize\n",
    "\n",
    "Run the `ee.Authenticate` function to authenticate your access to Earth Engine servers and `ee.Initialize` to initialize it. Upon running the following cell you'll be asked to grant Earth Engine access to your Google account. Follow the instructions printed to the cell."
   ]
  },
  {
   "cell_type": "markdown",
   "metadata": {},
   "source": [
    "# Select Area Interactively"
   ]
  },
  {
   "cell_type": "code",
   "execution_count": 5,
   "metadata": {},
   "outputs": [
    {
     "data": {
      "text/html": [
       "\n",
       "            <style>\n",
       "                .geemap-dark {\n",
       "                    --jp-widgets-color: white;\n",
       "                    --jp-widgets-label-color: white;\n",
       "                    --jp-ui-font-color1: white;\n",
       "                    --jp-layout-color2: #454545;\n",
       "                    background-color: #383838;\n",
       "                }\n",
       "\n",
       "                .geemap-dark .jupyter-button {\n",
       "                    --jp-layout-color3: #383838;\n",
       "                }\n",
       "\n",
       "                .geemap-colab {\n",
       "                    background-color: var(--colab-primary-surface-color, white);\n",
       "                }\n",
       "\n",
       "                .geemap-colab .jupyter-button {\n",
       "                    --jp-layout-color3: var(--colab-primary-surface-color, white);\n",
       "                }\n",
       "            </style>\n",
       "            "
      ],
      "text/plain": [
       "<IPython.core.display.HTML object>"
      ]
     },
     "metadata": {},
     "output_type": "display_data"
    },
    {
     "data": {
      "application/vnd.jupyter.widget-view+json": {
       "model_id": "ecc748d6d98b4f06a795fc42443c1a0a",
       "version_major": 2,
       "version_minor": 0
      },
      "text/plain": [
       "FloatSlider(value=0.2, continuous_update=False, description='NDWI Threshold:', max=0.5, min=0.1, step=0.01)"
      ]
     },
     "metadata": {},
     "output_type": "display_data"
    },
    {
     "data": {
      "application/vnd.jupyter.widget-view+json": {
       "model_id": "c3e5ade4a44144b4ad3a0bc6663ec1f1",
       "version_major": 2,
       "version_minor": 0
      },
      "text/plain": [
       "Map(center=[-36.5, -60], controls=(WidgetControl(options=['position', 'transparent_bg'], widget=SearchDataGUI(…"
      ]
     },
     "execution_count": 5,
     "metadata": {},
     "output_type": "execute_result"
    },
    {
     "ename": "EEException",
     "evalue": "Request had insufficient authentication scopes.",
     "output_type": "error",
     "traceback": [
      "\u001b[31m---------------------------------------------------------------------------\u001b[39m",
      "\u001b[31mHttpError\u001b[39m                                 Traceback (most recent call last)",
      "\u001b[36mFile \u001b[39m\u001b[32m~\\AppData\\Local\\Packages\\PythonSoftwareFoundation.Python.3.13_qbz5n2kfra8p0\\LocalCache\\local-packages\\Python313\\site-packages\\ee\\data.py:408\u001b[39m, in \u001b[36m_execute_cloud_call\u001b[39m\u001b[34m(call, num_retries)\u001b[39m\n\u001b[32m    407\u001b[39m \u001b[38;5;28;01mtry\u001b[39;00m:\n\u001b[32m--> \u001b[39m\u001b[32m408\u001b[39m   \u001b[38;5;28;01mreturn\u001b[39;00m \u001b[43mcall\u001b[49m\u001b[43m.\u001b[49m\u001b[43mexecute\u001b[49m\u001b[43m(\u001b[49m\u001b[43mnum_retries\u001b[49m\u001b[43m=\u001b[49m\u001b[43mnum_retries\u001b[49m\u001b[43m)\u001b[49m\n\u001b[32m    409\u001b[39m \u001b[38;5;28;01mexcept\u001b[39;00m googleapiclient.errors.HttpError \u001b[38;5;28;01mas\u001b[39;00m e:\n",
      "\u001b[36mFile \u001b[39m\u001b[32m~\\AppData\\Local\\Packages\\PythonSoftwareFoundation.Python.3.13_qbz5n2kfra8p0\\LocalCache\\local-packages\\Python313\\site-packages\\googleapiclient\\_helpers.py:130\u001b[39m, in \u001b[36mpositional.<locals>.positional_decorator.<locals>.positional_wrapper\u001b[39m\u001b[34m(*args, **kwargs)\u001b[39m\n\u001b[32m    129\u001b[39m         logger.warning(message)\n\u001b[32m--> \u001b[39m\u001b[32m130\u001b[39m \u001b[38;5;28;01mreturn\u001b[39;00m \u001b[43mwrapped\u001b[49m\u001b[43m(\u001b[49m\u001b[43m*\u001b[49m\u001b[43margs\u001b[49m\u001b[43m,\u001b[49m\u001b[43m \u001b[49m\u001b[43m*\u001b[49m\u001b[43m*\u001b[49m\u001b[43mkwargs\u001b[49m\u001b[43m)\u001b[49m\n",
      "\u001b[36mFile \u001b[39m\u001b[32m~\\AppData\\Local\\Packages\\PythonSoftwareFoundation.Python.3.13_qbz5n2kfra8p0\\LocalCache\\local-packages\\Python313\\site-packages\\googleapiclient\\http.py:938\u001b[39m, in \u001b[36mHttpRequest.execute\u001b[39m\u001b[34m(self, http, num_retries)\u001b[39m\n\u001b[32m    937\u001b[39m \u001b[38;5;28;01mif\u001b[39;00m resp.status >= \u001b[32m300\u001b[39m:\n\u001b[32m--> \u001b[39m\u001b[32m938\u001b[39m     \u001b[38;5;28;01mraise\u001b[39;00m HttpError(resp, content, uri=\u001b[38;5;28mself\u001b[39m.uri)\n\u001b[32m    939\u001b[39m \u001b[38;5;28;01mreturn\u001b[39;00m \u001b[38;5;28mself\u001b[39m.postproc(resp, content)\n",
      "\u001b[31mHttpError\u001b[39m: <HttpError 403 when requesting https://earthengine.googleapis.com/v1/projects/1003217534410/table:export?alt=json returned \"Request had insufficient authentication scopes.\". Details: \"[{'@type': 'type.googleapis.com/google.rpc.ErrorInfo', 'reason': 'ACCESS_TOKEN_SCOPE_INSUFFICIENT', 'domain': 'googleapis.com', 'metadata': {'service': 'earthengine.googleapis.com', 'method': 'google.earthengine.v1.EarthEngine.ExportTable'}}]\">",
      "\nDuring handling of the above exception, another exception occurred:\n",
      "\u001b[31mEEException\u001b[39m                               Traceback (most recent call last)",
      "\u001b[36mCell\u001b[39m\u001b[36m \u001b[39m\u001b[32mIn[5]\u001b[39m\u001b[32m, line 129\u001b[39m, in \u001b[36mon_draw_callback\u001b[39m\u001b[34m(target, action, geo_json)\u001b[39m\n\u001b[32m    127\u001b[39m \u001b[38;5;28;01mif\u001b[39;00m geom_type \u001b[38;5;129;01min\u001b[39;00m [\u001b[33m'\u001b[39m\u001b[33mPolygon\u001b[39m\u001b[33m'\u001b[39m, \u001b[33m'\u001b[39m\u001b[33mRectangle\u001b[39m\u001b[33m'\u001b[39m]:\n\u001b[32m    128\u001b[39m     current_roi = geemap.geojson_to_ee(geo_json)\n\u001b[32m--> \u001b[39m\u001b[32m129\u001b[39m     \u001b[43mextract_water_polygons\u001b[49m\u001b[43m(\u001b[49m\u001b[43mndwi_slider\u001b[49m\u001b[43m.\u001b[49m\u001b[43mvalue\u001b[49m\u001b[43m)\u001b[49m\n\u001b[32m    130\u001b[39m \u001b[38;5;28;01melse\u001b[39;00m:\n\u001b[32m    131\u001b[39m     \u001b[38;5;28mprint\u001b[39m(\u001b[33m\"\u001b[39m\u001b[33m⚠️ Usá solo polígono o rectángulo.\u001b[39m\u001b[33m\"\u001b[39m)\n",
      "\u001b[36mCell\u001b[39m\u001b[36m \u001b[39m\u001b[32mIn[5]\u001b[39m\u001b[32m, line 117\u001b[39m, in \u001b[36mextract_water_polygons\u001b[39m\u001b[34m(ndwi_threshold)\u001b[39m\n\u001b[32m    109\u001b[39m export_name = \u001b[33mf\u001b[39m\u001b[33m'\u001b[39m\u001b[33magua_\u001b[39m\u001b[38;5;132;01m{\u001b[39;00mimg_date.replace(\u001b[33m\"\u001b[39m\u001b[33m-\u001b[39m\u001b[33m\"\u001b[39m,\u001b[38;5;250m \u001b[39m\u001b[33m\"\u001b[39m\u001b[33m\"\u001b[39m)\u001b[38;5;132;01m}\u001b[39;00m\u001b[33m_ndwi\u001b[39m\u001b[38;5;132;01m{\u001b[39;00m\u001b[38;5;28mint\u001b[39m(ndwi_threshold*\u001b[32m100\u001b[39m)\u001b[38;5;132;01m}\u001b[39;00m\u001b[33m'\u001b[39m\n\u001b[32m    110\u001b[39m task = ee.batch.Export.table.toDrive(\n\u001b[32m    111\u001b[39m     collection=union_fc,\n\u001b[32m    112\u001b[39m     description=export_name,\n\u001b[32m   (...)\u001b[39m\u001b[32m    115\u001b[39m     fileFormat=\u001b[33m'\u001b[39m\u001b[33mGeoJSON\u001b[39m\u001b[33m'\u001b[39m\n\u001b[32m    116\u001b[39m )\n\u001b[32m--> \u001b[39m\u001b[32m117\u001b[39m \u001b[43mtask\u001b[49m\u001b[43m.\u001b[49m\u001b[43mstart\u001b[49m\u001b[43m(\u001b[49m\u001b[43m)\u001b[49m\n\u001b[32m    118\u001b[39m \u001b[38;5;28mprint\u001b[39m(\u001b[33mf\u001b[39m\u001b[33m\"\u001b[39m\u001b[33m🚀 Exportando a Drive como: \u001b[39m\u001b[38;5;132;01m{\u001b[39;00mexport_name\u001b[38;5;132;01m}\u001b[39;00m\u001b[33m.geojson → /\u001b[39m\u001b[38;5;132;01m{\u001b[39;00mEXPORT_FOLDER\u001b[38;5;132;01m}\u001b[39;00m\u001b[33m\"\u001b[39m)\n",
      "\u001b[36mFile \u001b[39m\u001b[32m~\\AppData\\Local\\Packages\\PythonSoftwareFoundation.Python.3.13_qbz5n2kfra8p0\\LocalCache\\local-packages\\Python313\\site-packages\\ee\\batch.py:149\u001b[39m, in \u001b[36mTask.start\u001b[39m\u001b[34m(self)\u001b[39m\n\u001b[32m    147\u001b[39m   result = data.exportMap(\u001b[38;5;28mself\u001b[39m._request_id, \u001b[38;5;28mself\u001b[39m.config)\n\u001b[32m    148\u001b[39m \u001b[38;5;28;01melif\u001b[39;00m \u001b[38;5;28mself\u001b[39m.task_type == Task.Type.EXPORT_TABLE:\n\u001b[32m--> \u001b[39m\u001b[32m149\u001b[39m   result = \u001b[43mdata\u001b[49m\u001b[43m.\u001b[49m\u001b[43mexportTable\u001b[49m\u001b[43m(\u001b[49m\u001b[38;5;28;43mself\u001b[39;49m\u001b[43m.\u001b[49m\u001b[43m_request_id\u001b[49m\u001b[43m,\u001b[49m\u001b[43m \u001b[49m\u001b[38;5;28;43mself\u001b[39;49m\u001b[43m.\u001b[49m\u001b[43mconfig\u001b[49m\u001b[43m)\u001b[49m\n\u001b[32m    150\u001b[39m \u001b[38;5;28;01melif\u001b[39;00m \u001b[38;5;28mself\u001b[39m.task_type == Task.Type.EXPORT_VIDEO:\n\u001b[32m    151\u001b[39m   result = data.exportVideo(\u001b[38;5;28mself\u001b[39m._request_id, \u001b[38;5;28mself\u001b[39m.config)\n",
      "\u001b[36mFile \u001b[39m\u001b[32m~\\AppData\\Local\\Packages\\PythonSoftwareFoundation.Python.3.13_qbz5n2kfra8p0\\LocalCache\\local-packages\\Python313\\site-packages\\ee\\data.py:1792\u001b[39m, in \u001b[36mexportTable\u001b[39m\u001b[34m(request_id, params)\u001b[39m\n\u001b[32m   1771\u001b[39m \u001b[38;5;250m\u001b[39m\u001b[33;03m\"\"\"Starts a table export task running.\u001b[39;00m\n\u001b[32m   1772\u001b[39m \n\u001b[32m   1773\u001b[39m \u001b[33;03mThis is a low-level method. The higher-level ee.batch.Export.table object\u001b[39;00m\n\u001b[32m   (...)\u001b[39m\u001b[32m   1789\u001b[39m \u001b[33;03m  If you are using the cloud API, this will be an Operation.\u001b[39;00m\n\u001b[32m   1790\u001b[39m \u001b[33;03m\"\"\"\u001b[39;00m\n\u001b[32m   1791\u001b[39m params = params.copy()\n\u001b[32m-> \u001b[39m\u001b[32m1792\u001b[39m \u001b[38;5;28;01mreturn\u001b[39;00m \u001b[43m_prepare_and_run_export\u001b[49m\u001b[43m(\u001b[49m\n\u001b[32m   1793\u001b[39m \u001b[43m    \u001b[49m\u001b[43mrequest_id\u001b[49m\u001b[43m,\u001b[49m\u001b[43m \u001b[49m\u001b[43mparams\u001b[49m\u001b[43m,\u001b[49m\u001b[43m \u001b[49m\u001b[43m_get_cloud_projects\u001b[49m\u001b[43m(\u001b[49m\u001b[43m)\u001b[49m\u001b[43m.\u001b[49m\u001b[43mtable\u001b[49m\u001b[43m(\u001b[49m\u001b[43m)\u001b[49m\u001b[43m.\u001b[49m\u001b[43mexport\u001b[49m\n\u001b[32m   1794\u001b[39m \u001b[43m\u001b[49m\u001b[43m)\u001b[49m\n",
      "\u001b[36mFile \u001b[39m\u001b[32m~\\AppData\\Local\\Packages\\PythonSoftwareFoundation.Python.3.13_qbz5n2kfra8p0\\LocalCache\\local-packages\\Python313\\site-packages\\ee\\data.py:1909\u001b[39m, in \u001b[36m_prepare_and_run_export\u001b[39m\u001b[34m(request_id, params, export_endpoint)\u001b[39m\n\u001b[32m   1906\u001b[39m   params[\u001b[33m'\u001b[39m\u001b[33mexpression\u001b[39m\u001b[33m'\u001b[39m] = serializer.encode(\n\u001b[32m   1907\u001b[39m       params[\u001b[33m'\u001b[39m\u001b[33mexpression\u001b[39m\u001b[33m'\u001b[39m], for_cloud_api=\u001b[38;5;28;01mTrue\u001b[39;00m)\n\u001b[32m   1908\u001b[39m num_retries = _max_retries \u001b[38;5;28;01mif\u001b[39;00m request_id \u001b[38;5;28;01melse\u001b[39;00m \u001b[32m0\u001b[39m\n\u001b[32m-> \u001b[39m\u001b[32m1909\u001b[39m \u001b[38;5;28;01mreturn\u001b[39;00m \u001b[43m_execute_cloud_call\u001b[49m\u001b[43m(\u001b[49m\n\u001b[32m   1910\u001b[39m \u001b[43m    \u001b[49m\u001b[43mexport_endpoint\u001b[49m\u001b[43m(\u001b[49m\u001b[43mproject\u001b[49m\u001b[43m=\u001b[49m\u001b[43m_get_projects_path\u001b[49m\u001b[43m(\u001b[49m\u001b[43m)\u001b[49m\u001b[43m,\u001b[49m\u001b[43m \u001b[49m\u001b[43mbody\u001b[49m\u001b[43m=\u001b[49m\u001b[43mparams\u001b[49m\u001b[43m)\u001b[49m\u001b[43m,\u001b[49m\n\u001b[32m   1911\u001b[39m \u001b[43m    \u001b[49m\u001b[43mnum_retries\u001b[49m\u001b[43m=\u001b[49m\u001b[43mnum_retries\u001b[49m\u001b[43m)\u001b[49m\n",
      "\u001b[36mFile \u001b[39m\u001b[32m~\\AppData\\Local\\Packages\\PythonSoftwareFoundation.Python.3.13_qbz5n2kfra8p0\\LocalCache\\local-packages\\Python313\\site-packages\\ee\\data.py:410\u001b[39m, in \u001b[36m_execute_cloud_call\u001b[39m\u001b[34m(call, num_retries)\u001b[39m\n\u001b[32m    408\u001b[39m   \u001b[38;5;28;01mreturn\u001b[39;00m call.execute(num_retries=num_retries)\n\u001b[32m    409\u001b[39m \u001b[38;5;28;01mexcept\u001b[39;00m googleapiclient.errors.HttpError \u001b[38;5;28;01mas\u001b[39;00m e:\n\u001b[32m--> \u001b[39m\u001b[32m410\u001b[39m   \u001b[38;5;28;01mraise\u001b[39;00m _translate_cloud_exception(e)\n",
      "\u001b[31mEEException\u001b[39m: Request had insufficient authentication scopes."
     ]
    },
    {
     "ename": "EEException",
     "evalue": "Request had insufficient authentication scopes.",
     "output_type": "error",
     "traceback": [
      "\u001b[31m---------------------------------------------------------------------------\u001b[39m",
      "\u001b[31mHttpError\u001b[39m                                 Traceback (most recent call last)",
      "\u001b[36mFile \u001b[39m\u001b[32m~\\AppData\\Local\\Packages\\PythonSoftwareFoundation.Python.3.13_qbz5n2kfra8p0\\LocalCache\\local-packages\\Python313\\site-packages\\ee\\data.py:408\u001b[39m, in \u001b[36m_execute_cloud_call\u001b[39m\u001b[34m(call, num_retries)\u001b[39m\n\u001b[32m    407\u001b[39m \u001b[38;5;28;01mtry\u001b[39;00m:\n\u001b[32m--> \u001b[39m\u001b[32m408\u001b[39m   \u001b[38;5;28;01mreturn\u001b[39;00m \u001b[43mcall\u001b[49m\u001b[43m.\u001b[49m\u001b[43mexecute\u001b[49m\u001b[43m(\u001b[49m\u001b[43mnum_retries\u001b[49m\u001b[43m=\u001b[49m\u001b[43mnum_retries\u001b[49m\u001b[43m)\u001b[49m\n\u001b[32m    409\u001b[39m \u001b[38;5;28;01mexcept\u001b[39;00m googleapiclient.errors.HttpError \u001b[38;5;28;01mas\u001b[39;00m e:\n",
      "\u001b[36mFile \u001b[39m\u001b[32m~\\AppData\\Local\\Packages\\PythonSoftwareFoundation.Python.3.13_qbz5n2kfra8p0\\LocalCache\\local-packages\\Python313\\site-packages\\googleapiclient\\_helpers.py:130\u001b[39m, in \u001b[36mpositional.<locals>.positional_decorator.<locals>.positional_wrapper\u001b[39m\u001b[34m(*args, **kwargs)\u001b[39m\n\u001b[32m    129\u001b[39m         logger.warning(message)\n\u001b[32m--> \u001b[39m\u001b[32m130\u001b[39m \u001b[38;5;28;01mreturn\u001b[39;00m \u001b[43mwrapped\u001b[49m\u001b[43m(\u001b[49m\u001b[43m*\u001b[49m\u001b[43margs\u001b[49m\u001b[43m,\u001b[49m\u001b[43m \u001b[49m\u001b[43m*\u001b[49m\u001b[43m*\u001b[49m\u001b[43mkwargs\u001b[49m\u001b[43m)\u001b[49m\n",
      "\u001b[36mFile \u001b[39m\u001b[32m~\\AppData\\Local\\Packages\\PythonSoftwareFoundation.Python.3.13_qbz5n2kfra8p0\\LocalCache\\local-packages\\Python313\\site-packages\\googleapiclient\\http.py:938\u001b[39m, in \u001b[36mHttpRequest.execute\u001b[39m\u001b[34m(self, http, num_retries)\u001b[39m\n\u001b[32m    937\u001b[39m \u001b[38;5;28;01mif\u001b[39;00m resp.status >= \u001b[32m300\u001b[39m:\n\u001b[32m--> \u001b[39m\u001b[32m938\u001b[39m     \u001b[38;5;28;01mraise\u001b[39;00m HttpError(resp, content, uri=\u001b[38;5;28mself\u001b[39m.uri)\n\u001b[32m    939\u001b[39m \u001b[38;5;28;01mreturn\u001b[39;00m \u001b[38;5;28mself\u001b[39m.postproc(resp, content)\n",
      "\u001b[31mHttpError\u001b[39m: <HttpError 403 when requesting https://earthengine.googleapis.com/v1/projects/1003217534410/table:export?alt=json returned \"Request had insufficient authentication scopes.\". Details: \"[{'@type': 'type.googleapis.com/google.rpc.ErrorInfo', 'reason': 'ACCESS_TOKEN_SCOPE_INSUFFICIENT', 'domain': 'googleapis.com', 'metadata': {'method': 'google.earthengine.v1.EarthEngine.ExportTable', 'service': 'earthengine.googleapis.com'}}]\">",
      "\nDuring handling of the above exception, another exception occurred:\n",
      "\u001b[31mEEException\u001b[39m                               Traceback (most recent call last)",
      "\u001b[36mCell\u001b[39m\u001b[36m \u001b[39m\u001b[32mIn[5]\u001b[39m\u001b[32m, line 129\u001b[39m, in \u001b[36mon_draw_callback\u001b[39m\u001b[34m(target, action, geo_json)\u001b[39m\n\u001b[32m    127\u001b[39m \u001b[38;5;28;01mif\u001b[39;00m geom_type \u001b[38;5;129;01min\u001b[39;00m [\u001b[33m'\u001b[39m\u001b[33mPolygon\u001b[39m\u001b[33m'\u001b[39m, \u001b[33m'\u001b[39m\u001b[33mRectangle\u001b[39m\u001b[33m'\u001b[39m]:\n\u001b[32m    128\u001b[39m     current_roi = geemap.geojson_to_ee(geo_json)\n\u001b[32m--> \u001b[39m\u001b[32m129\u001b[39m     \u001b[43mextract_water_polygons\u001b[49m\u001b[43m(\u001b[49m\u001b[43mndwi_slider\u001b[49m\u001b[43m.\u001b[49m\u001b[43mvalue\u001b[49m\u001b[43m)\u001b[49m\n\u001b[32m    130\u001b[39m \u001b[38;5;28;01melse\u001b[39;00m:\n\u001b[32m    131\u001b[39m     \u001b[38;5;28mprint\u001b[39m(\u001b[33m\"\u001b[39m\u001b[33m⚠️ Usá solo polígono o rectángulo.\u001b[39m\u001b[33m\"\u001b[39m)\n",
      "\u001b[36mCell\u001b[39m\u001b[36m \u001b[39m\u001b[32mIn[5]\u001b[39m\u001b[32m, line 117\u001b[39m, in \u001b[36mextract_water_polygons\u001b[39m\u001b[34m(ndwi_threshold)\u001b[39m\n\u001b[32m    109\u001b[39m export_name = \u001b[33mf\u001b[39m\u001b[33m'\u001b[39m\u001b[33magua_\u001b[39m\u001b[38;5;132;01m{\u001b[39;00mimg_date.replace(\u001b[33m\"\u001b[39m\u001b[33m-\u001b[39m\u001b[33m\"\u001b[39m,\u001b[38;5;250m \u001b[39m\u001b[33m\"\u001b[39m\u001b[33m\"\u001b[39m)\u001b[38;5;132;01m}\u001b[39;00m\u001b[33m_ndwi\u001b[39m\u001b[38;5;132;01m{\u001b[39;00m\u001b[38;5;28mint\u001b[39m(ndwi_threshold*\u001b[32m100\u001b[39m)\u001b[38;5;132;01m}\u001b[39;00m\u001b[33m'\u001b[39m\n\u001b[32m    110\u001b[39m task = ee.batch.Export.table.toDrive(\n\u001b[32m    111\u001b[39m     collection=union_fc,\n\u001b[32m    112\u001b[39m     description=export_name,\n\u001b[32m   (...)\u001b[39m\u001b[32m    115\u001b[39m     fileFormat=\u001b[33m'\u001b[39m\u001b[33mGeoJSON\u001b[39m\u001b[33m'\u001b[39m\n\u001b[32m    116\u001b[39m )\n\u001b[32m--> \u001b[39m\u001b[32m117\u001b[39m \u001b[43mtask\u001b[49m\u001b[43m.\u001b[49m\u001b[43mstart\u001b[49m\u001b[43m(\u001b[49m\u001b[43m)\u001b[49m\n\u001b[32m    118\u001b[39m \u001b[38;5;28mprint\u001b[39m(\u001b[33mf\u001b[39m\u001b[33m\"\u001b[39m\u001b[33m🚀 Exportando a Drive como: \u001b[39m\u001b[38;5;132;01m{\u001b[39;00mexport_name\u001b[38;5;132;01m}\u001b[39;00m\u001b[33m.geojson → /\u001b[39m\u001b[38;5;132;01m{\u001b[39;00mEXPORT_FOLDER\u001b[38;5;132;01m}\u001b[39;00m\u001b[33m\"\u001b[39m)\n",
      "\u001b[36mFile \u001b[39m\u001b[32m~\\AppData\\Local\\Packages\\PythonSoftwareFoundation.Python.3.13_qbz5n2kfra8p0\\LocalCache\\local-packages\\Python313\\site-packages\\ee\\batch.py:149\u001b[39m, in \u001b[36mTask.start\u001b[39m\u001b[34m(self)\u001b[39m\n\u001b[32m    147\u001b[39m   result = data.exportMap(\u001b[38;5;28mself\u001b[39m._request_id, \u001b[38;5;28mself\u001b[39m.config)\n\u001b[32m    148\u001b[39m \u001b[38;5;28;01melif\u001b[39;00m \u001b[38;5;28mself\u001b[39m.task_type == Task.Type.EXPORT_TABLE:\n\u001b[32m--> \u001b[39m\u001b[32m149\u001b[39m   result = \u001b[43mdata\u001b[49m\u001b[43m.\u001b[49m\u001b[43mexportTable\u001b[49m\u001b[43m(\u001b[49m\u001b[38;5;28;43mself\u001b[39;49m\u001b[43m.\u001b[49m\u001b[43m_request_id\u001b[49m\u001b[43m,\u001b[49m\u001b[43m \u001b[49m\u001b[38;5;28;43mself\u001b[39;49m\u001b[43m.\u001b[49m\u001b[43mconfig\u001b[49m\u001b[43m)\u001b[49m\n\u001b[32m    150\u001b[39m \u001b[38;5;28;01melif\u001b[39;00m \u001b[38;5;28mself\u001b[39m.task_type == Task.Type.EXPORT_VIDEO:\n\u001b[32m    151\u001b[39m   result = data.exportVideo(\u001b[38;5;28mself\u001b[39m._request_id, \u001b[38;5;28mself\u001b[39m.config)\n",
      "\u001b[36mFile \u001b[39m\u001b[32m~\\AppData\\Local\\Packages\\PythonSoftwareFoundation.Python.3.13_qbz5n2kfra8p0\\LocalCache\\local-packages\\Python313\\site-packages\\ee\\data.py:1792\u001b[39m, in \u001b[36mexportTable\u001b[39m\u001b[34m(request_id, params)\u001b[39m\n\u001b[32m   1771\u001b[39m \u001b[38;5;250m\u001b[39m\u001b[33;03m\"\"\"Starts a table export task running.\u001b[39;00m\n\u001b[32m   1772\u001b[39m \n\u001b[32m   1773\u001b[39m \u001b[33;03mThis is a low-level method. The higher-level ee.batch.Export.table object\u001b[39;00m\n\u001b[32m   (...)\u001b[39m\u001b[32m   1789\u001b[39m \u001b[33;03m  If you are using the cloud API, this will be an Operation.\u001b[39;00m\n\u001b[32m   1790\u001b[39m \u001b[33;03m\"\"\"\u001b[39;00m\n\u001b[32m   1791\u001b[39m params = params.copy()\n\u001b[32m-> \u001b[39m\u001b[32m1792\u001b[39m \u001b[38;5;28;01mreturn\u001b[39;00m \u001b[43m_prepare_and_run_export\u001b[49m\u001b[43m(\u001b[49m\n\u001b[32m   1793\u001b[39m \u001b[43m    \u001b[49m\u001b[43mrequest_id\u001b[49m\u001b[43m,\u001b[49m\u001b[43m \u001b[49m\u001b[43mparams\u001b[49m\u001b[43m,\u001b[49m\u001b[43m \u001b[49m\u001b[43m_get_cloud_projects\u001b[49m\u001b[43m(\u001b[49m\u001b[43m)\u001b[49m\u001b[43m.\u001b[49m\u001b[43mtable\u001b[49m\u001b[43m(\u001b[49m\u001b[43m)\u001b[49m\u001b[43m.\u001b[49m\u001b[43mexport\u001b[49m\n\u001b[32m   1794\u001b[39m \u001b[43m\u001b[49m\u001b[43m)\u001b[49m\n",
      "\u001b[36mFile \u001b[39m\u001b[32m~\\AppData\\Local\\Packages\\PythonSoftwareFoundation.Python.3.13_qbz5n2kfra8p0\\LocalCache\\local-packages\\Python313\\site-packages\\ee\\data.py:1909\u001b[39m, in \u001b[36m_prepare_and_run_export\u001b[39m\u001b[34m(request_id, params, export_endpoint)\u001b[39m\n\u001b[32m   1906\u001b[39m   params[\u001b[33m'\u001b[39m\u001b[33mexpression\u001b[39m\u001b[33m'\u001b[39m] = serializer.encode(\n\u001b[32m   1907\u001b[39m       params[\u001b[33m'\u001b[39m\u001b[33mexpression\u001b[39m\u001b[33m'\u001b[39m], for_cloud_api=\u001b[38;5;28;01mTrue\u001b[39;00m)\n\u001b[32m   1908\u001b[39m num_retries = _max_retries \u001b[38;5;28;01mif\u001b[39;00m request_id \u001b[38;5;28;01melse\u001b[39;00m \u001b[32m0\u001b[39m\n\u001b[32m-> \u001b[39m\u001b[32m1909\u001b[39m \u001b[38;5;28;01mreturn\u001b[39;00m \u001b[43m_execute_cloud_call\u001b[49m\u001b[43m(\u001b[49m\n\u001b[32m   1910\u001b[39m \u001b[43m    \u001b[49m\u001b[43mexport_endpoint\u001b[49m\u001b[43m(\u001b[49m\u001b[43mproject\u001b[49m\u001b[43m=\u001b[49m\u001b[43m_get_projects_path\u001b[49m\u001b[43m(\u001b[49m\u001b[43m)\u001b[49m\u001b[43m,\u001b[49m\u001b[43m \u001b[49m\u001b[43mbody\u001b[49m\u001b[43m=\u001b[49m\u001b[43mparams\u001b[49m\u001b[43m)\u001b[49m\u001b[43m,\u001b[49m\n\u001b[32m   1911\u001b[39m \u001b[43m    \u001b[49m\u001b[43mnum_retries\u001b[49m\u001b[43m=\u001b[49m\u001b[43mnum_retries\u001b[49m\u001b[43m)\u001b[49m\n",
      "\u001b[36mFile \u001b[39m\u001b[32m~\\AppData\\Local\\Packages\\PythonSoftwareFoundation.Python.3.13_qbz5n2kfra8p0\\LocalCache\\local-packages\\Python313\\site-packages\\ee\\data.py:410\u001b[39m, in \u001b[36m_execute_cloud_call\u001b[39m\u001b[34m(call, num_retries)\u001b[39m\n\u001b[32m    408\u001b[39m   \u001b[38;5;28;01mreturn\u001b[39;00m call.execute(num_retries=num_retries)\n\u001b[32m    409\u001b[39m \u001b[38;5;28;01mexcept\u001b[39;00m googleapiclient.errors.HttpError \u001b[38;5;28;01mas\u001b[39;00m e:\n\u001b[32m--> \u001b[39m\u001b[32m410\u001b[39m   \u001b[38;5;28;01mraise\u001b[39;00m _translate_cloud_exception(e)\n",
      "\u001b[31mEEException\u001b[39m: Request had insufficient authentication scopes."
     ]
    }
   ],
   "source": [
    "\n",
    "# 📦 Imports\n",
    "import ee\n",
    "import geemap\n",
    "import ipywidgets as widgets\n",
    "from IPython.display import display\n",
    "from ipyleaflet import WidgetControl\n",
    "from ipywidgets import HTML\n",
    "\n",
    "# 🌍 Inicialización Earth Engine\n",
    "try:\n",
    "    ee.Initialize()\n",
    "except:\n",
    "    ee.Authenticate()\n",
    "    ee.Initialize()\n",
    "\n",
    "# 🗺️ Mapa\n",
    "Map = geemap.Map(center=[-36.5, -60], zoom=6)\n",
    "Map.add_basemap('Esri.WorldImagery')\n",
    "Map.add_draw_control()\n",
    "\n",
    "# 🎚️ NDWI Slider\n",
    "ndwi_slider = widgets.FloatSlider(\n",
    "    value=NDWI_THRESHOLD, min=0.1, max=0.5, step=0.01,\n",
    "    description='NDWI Threshold:', continuous_update=False\n",
    ")\n",
    "display(ndwi_slider)\n",
    "\n",
    "# 🧠 Estado actual\n",
    "current_roi = None\n",
    "\n",
    "# 🧹 Función para limpiar capas previas\n",
    "def remove_ee_layers(map_obj):\n",
    "    ee_layers = [lyr for lyr in map_obj.layers if hasattr(lyr, 'ee_object')]\n",
    "    for lyr in ee_layers:\n",
    "        map_obj.remove_layer(lyr)\n",
    "\n",
    "# 🧠 Función principal: detección y exportación de cuerpos de agua\n",
    "def extract_water_polygons(ndwi_threshold):\n",
    "    if not current_roi:\n",
    "        print(\"⚠️ Seleccioná una región.\")\n",
    "        return\n",
    "\n",
    "    geom = current_roi\n",
    "\n",
    "    s2 = ee.ImageCollection(SENTINEL_COLLECTION) \\\n",
    "        .filterBounds(geom) \\\n",
    "        .filter(ee.Filter.lt('CLOUDY_PIXEL_PERCENTAGE', CLOUD_COVER_MAX)) \\\n",
    "        .sort('system:time_start', False) \\\n",
    "        .first()\n",
    "\n",
    "    img_date = s2.date().format('YYYY-MM-dd').getInfo()\n",
    "    print(f\"📅 Imagen Sentinel-2: {img_date}\")\n",
    "\n",
    "    remove_ee_layers(Map)\n",
    "\n",
    "    vis_params = {'bands': ['B4', 'B3', 'B2'], 'min': 0, 'max': 3000}\n",
    "    Map.addLayer(s2.clip(geom), vis_params, 'Sentinel-2 RGB')\n",
    "\n",
    "    date_label = HTML(value=f\"<b>Imagen:</b> {img_date}\")\n",
    "    date_control = WidgetControl(widget=date_label, position='topright')\n",
    "    Map.add_control(date_control)\n",
    "\n",
    "    # NDWI\n",
    "    ndwi = s2.normalizedDifference(['B3', 'B8']).rename('NDWI')\n",
    "    water_mask = ndwi.gt(ndwi_threshold)\n",
    "    water_mask_int = water_mask.updateMask(water_mask).multiply(1).toInt()\n",
    "\n",
    "    vectors = water_mask_int.reduceToVectors(\n",
    "        geometry=geom,\n",
    "        scale=10,\n",
    "        geometryType='polygon',\n",
    "        eightConnected=True,\n",
    "        labelProperty='water',\n",
    "        bestEffort=True,\n",
    "        maxPixels=1e9\n",
    "    )\n",
    "\n",
    "    vectors = vectors.map(lambda f: f.set('area', f.geometry().area(1)))\n",
    "    vectors = vectors.filter(ee.Filter.gt('area', MIN_POLYGON_AREA))\n",
    "\n",
    "    # 🔁 Suavizado individual de polígonos (cierra huecos internos)\n",
    "    def smooth_and_fill(f):\n",
    "        g = f.geometry().buffer(BUFFER_SIZE).buffer(-BUFFER_SIZE)\n",
    "        return ee.Feature(g).copyProperties(f)\n",
    "    \n",
    "        if SMOOTH_POLYGONS:\n",
    "            vectors = vectors.map(lambda f: ee.Feature(\n",
    "                f.geometry().buffer(SMOOTH_BUFFER_SIZE).buffer(-SMOOTH_BUFFER_SIZE)\n",
    "            ).copyProperties(f))\n",
    "\n",
    "\n",
    "    if SMOOTH_POLYGONS:\n",
    "        vectors = vectors.map(smooth_and_fill)\n",
    "\n",
    "    union_fc = vectors\n",
    "\n",
    "    size = union_fc.size().getInfo()\n",
    "    if size == 0:\n",
    "        print(\"⚠️ No se detectaron polígonos.\")\n",
    "        return\n",
    "\n",
    "    Map.addLayer(ndwi.clip(geom), {'min': -1, 'max': 1, 'palette': ['white', 'blue']}, 'NDWI')\n",
    "    Map.addLayer(water_mask_int.clip(geom).selfMask(), {'palette': 'blue'}, 'Water Mask')\n",
    "    Map.addLayer(union_fc, {'color': 'cyan'}, 'Water Polygons')\n",
    "\n",
    "    print(f\"✅ {size} polígonos generados.\")\n",
    "\n",
    "    # Exportar a Google Drive\n",
    "    export_name = f'agua_{img_date.replace(\"-\", \"\")}_ndwi{int(ndwi_threshold*100)}'\n",
    "    task = ee.batch.Export.table.toDrive(\n",
    "        collection=union_fc,\n",
    "        description=export_name,\n",
    "        folder=EXPORT_FOLDER,\n",
    "        fileNamePrefix=export_name,\n",
    "        fileFormat='GeoJSON'\n",
    "    )\n",
    "    task.start()\n",
    "    print(f\"🚀 Exportando a Drive como: {export_name}.geojson → /{EXPORT_FOLDER}\")\n",
    "\n",
    "# 🎯 Slider trigger\n",
    "ndwi_slider.observe(lambda change: extract_water_polygons(ndwi_slider.value), names='value')\n",
    "\n",
    "# ✏️ Dibujo en el mapa\n",
    "def on_draw_callback(target, action, geo_json):\n",
    "    global current_roi\n",
    "    geom_type = geo_json.get('geometry', {}).get('type')\n",
    "    if geom_type in ['Polygon', 'Rectangle']:\n",
    "        current_roi = geemap.geojson_to_ee(geo_json)\n",
    "        extract_water_polygons(ndwi_slider.value)\n",
    "    else:\n",
    "        print(\"⚠️ Usá solo polígono o rectángulo.\")\n",
    "\n",
    "Map.draw_control.on_draw(on_draw_callback)\n",
    "\n",
    "# Mostrar el mapa\n",
    "Map\n",
    "\n",
    "\n",
    "# POTENCIALES MEJORAS FUTURAS:\n",
    "# * Hacer que corra por un intervalo de NDWI asi podes agarrar todas las masas de agua detectadas de 0.2-0.3 por ejemplo y despues se mergean todos los poligonos entre ellos y se consigue el mejor resultado posible."
   ]
  }
 ],
 "metadata": {
  "colab": {
   "collapsed_sections": [],
   "name": "ee-api-colab-setup.ipynb",
   "provenance": [],
   "toc_visible": true
  },
  "kernelspec": {
   "display_name": "Python 3",
   "name": "python3"
  },
  "language_info": {
   "codemirror_mode": {
    "name": "ipython",
    "version": 3
   },
   "file_extension": ".py",
   "mimetype": "text/x-python",
   "name": "python",
   "nbconvert_exporter": "python",
   "pygments_lexer": "ipython3",
   "version": "3.13.6"
  }
 },
 "nbformat": 4,
 "nbformat_minor": 0
}
