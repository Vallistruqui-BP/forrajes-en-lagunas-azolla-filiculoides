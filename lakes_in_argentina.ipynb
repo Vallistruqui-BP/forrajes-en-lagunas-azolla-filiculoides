{
  "cells": [
    {
      "cell_type": "code",
      "execution_count": null,
      "metadata": {
        "id": "krsLgVBYZw_A"
      },
      "outputs": [],
      "source": [
        "#@title Copyright 2019 Google LLC. { display-mode: \"form\" }\n",
        "# Licensed under the Apache License, Version 2.0 (the \"License\");\n",
        "# you may not use this file except in compliance with the License.\n",
        "# You may obtain a copy of the License at\n",
        "#\n",
        "# https://www.apache.org/licenses/LICENSE-2.0\n",
        "#\n",
        "# Unless required by applicable law or agreed to in writing, software\n",
        "# distributed under the License is distributed on an \"AS IS\" BASIS,\n",
        "# WITHOUT WARRANTIES OR CONDITIONS OF ANY KIND, either express or implied.\n",
        "# See the License for the specific language governing permissions and\n",
        "# limitations under the License.\n",
        "\n",
        "# This is the code link https://github.com/google/earthengine-community/blob/master/guides/linked/ee-api-colab-setup.ipynb"
      ]
    },
    {
      "cell_type": "markdown",
      "metadata": {
        "id": "aV1xZ1CPi3Nw"
      },
      "source": [
        "<table class=\"ee-notebook-buttons\" align=\"left\"><td>\n",
        "<a target=\"_blank\"  href=\"http://colab.research.google.com/github/google/earthengine-community/blob/master/guides/linked/ee-api-colab-setup.ipynb\">\n",
        "    <img src=\"https://www.tensorflow.org/images/colab_logo_32px.png\" /> Run in Google Colab</a>\n",
        "</td><td>\n",
        "<a target=\"_blank\"  href=\"https://github.com/google/earthengine-community/blob/master/guides/linked/ee-api-colab-setup.ipynb\"><img width=32px src=\"https://www.tensorflow.org/images/GitHub-Mark-32px.png\" /> View source on GitHub</a></td></table>"
      ]
    },
    {
      "cell_type": "markdown",
      "metadata": {
        "id": "s-dN42MTzg-w"
      },
      "source": [
        "### Authenticate and initialize\n",
        "\n",
        "Run the `ee.Authenticate` function to authenticate your access to Earth Engine servers and `ee.Initialize` to initialize it. Upon running the following cell you'll be asked to grant Earth Engine access to your Google account. Follow the instructions printed to the cell."
      ]
    },
    {
      "cell_type": "markdown",
      "metadata": {},
      "source": [
        "# Select Area Interactively"
      ]
    },
    {
      "cell_type": "code",
      "execution_count": 11,
      "metadata": {},
      "outputs": [
        {
          "data": {
            "text/html": [
              "\n",
              "            <style>\n",
              "                .geemap-dark {\n",
              "                    --jp-widgets-color: white;\n",
              "                    --jp-widgets-label-color: white;\n",
              "                    --jp-ui-font-color1: white;\n",
              "                    --jp-layout-color2: #454545;\n",
              "                    background-color: #383838;\n",
              "                }\n",
              "\n",
              "                .geemap-dark .jupyter-button {\n",
              "                    --jp-layout-color3: #383838;\n",
              "                }\n",
              "\n",
              "                .geemap-colab {\n",
              "                    background-color: var(--colab-primary-surface-color, white);\n",
              "                }\n",
              "\n",
              "                .geemap-colab .jupyter-button {\n",
              "                    --jp-layout-color3: var(--colab-primary-surface-color, white);\n",
              "                }\n",
              "            </style>\n",
              "            "
            ],
            "text/plain": [
              "<IPython.core.display.HTML object>"
            ]
          },
          "metadata": {},
          "output_type": "display_data"
        },
        {
          "data": {
            "application/vnd.jupyter.widget-view+json": {
              "model_id": "1ffeb480cf204596905fa7a3c2dd3dce",
              "version_major": 2,
              "version_minor": 0
            },
            "text/plain": [
              "FloatSlider(value=0.3, continuous_update=False, description='NDWI Threshold:', max=0.5, min=0.1, step=0.01)"
            ]
          },
          "metadata": {},
          "output_type": "display_data"
        },
        {
          "data": {
            "application/vnd.jupyter.widget-view+json": {
              "model_id": "2298bf535ced47beb63907eb41ea9fb4",
              "version_major": 2,
              "version_minor": 0
            },
            "text/plain": [
              "Map(center=[-36.5, -60], controls=(WidgetControl(options=['position', 'transparent_bg'], widget=SearchDataGUI(…"
            ]
          },
          "execution_count": 11,
          "metadata": {},
          "output_type": "execute_result"
        }
      ],
      "source": [
        "import ee\n",
        "import geemap\n",
        "import ipywidgets as widgets\n",
        "from IPython.display import display\n",
        "from ipyleaflet import WidgetControl\n",
        "from ipywidgets import HTML\n",
        "\n",
        "# Autenticación\n",
        "try:\n",
        "    ee.Initialize()\n",
        "except:\n",
        "    ee.Authenticate()\n",
        "    ee.Initialize()\n",
        "\n",
        "# Mapa\n",
        "Map = geemap.Map(center=[-36.5, -60], zoom=6)\n",
        "Map.add_basemap('Esri.WorldImagery')\n",
        "Map.add_draw_control()\n",
        "\n",
        "# NDWI slider\n",
        "ndwi_slider = widgets.FloatSlider(\n",
        "    value=0.3, min=0.1, max=0.5, step=0.01,\n",
        "    description='NDWI Threshold:', continuous_update=False\n",
        ")\n",
        "display(ndwi_slider)\n",
        "\n",
        "# Variables\n",
        "current_roi = None\n",
        "\n",
        "def remove_ee_layers(map_obj):\n",
        "    ee_layers = [lyr for lyr in map_obj.layers if hasattr(lyr, 'ee_object')]\n",
        "    for lyr in ee_layers:\n",
        "        map_obj.remove_layer(lyr)\n",
        "\n",
        "def extract_water_polygons(ndwi_threshold):\n",
        "    if not current_roi:\n",
        "        print(\"⚠️ Seleccioná una región.\")\n",
        "        return\n",
        "\n",
        "    geom = current_roi\n",
        "\n",
        "    s2 = ee.ImageCollection('COPERNICUS/S2_SR_HARMONIZED') \\\n",
        "        .filterBounds(geom) \\\n",
        "        .filter(ee.Filter.lt('CLOUDY_PIXEL_PERCENTAGE', 10)) \\\n",
        "        .sort('system:time_start', False) \\\n",
        "        .first()\n",
        "\n",
        "    img_date = s2.date().format('YYYY-MM-dd').getInfo()\n",
        "    print(f\"📅 Imagen Sentinel-2: {img_date}\")\n",
        "\n",
        "    remove_ee_layers(Map)\n",
        "\n",
        "    vis_params = {'bands': ['B4', 'B3', 'B2'], 'min': 0, 'max': 3000}\n",
        "    Map.addLayer(s2.clip(geom), vis_params, 'Sentinel-2 RGB')\n",
        "\n",
        "    date_label = HTML(value=f\"<b>Imagen:</b> {img_date}\")\n",
        "    date_control = WidgetControl(widget=date_label, position='topright')\n",
        "    Map.add_control(date_control)\n",
        "\n",
        "    ndwi = s2.normalizedDifference(['B3', 'B8']).rename('NDWI')\n",
        "    water_mask = ndwi.gt(ndwi_threshold)\n",
        "    water_mask_int = water_mask.updateMask(water_mask).multiply(1).toInt()\n",
        "\n",
        "    vectors = water_mask_int.reduceToVectors(\n",
        "        geometry=geom,\n",
        "        scale=10,\n",
        "        geometryType='polygon',\n",
        "        eightConnected=True,\n",
        "        labelProperty='water',\n",
        "        bestEffort=True,\n",
        "        maxPixels=1e9\n",
        "    )\n",
        "\n",
        "    vectors = vectors.map(lambda f: f.set('area', f.geometry().area(1)))\n",
        "    vectors = vectors.filter(ee.Filter.gt('area', 300))\n",
        "\n",
        "    # 🔁 Agrupar polígonos cercanos mediante buffer + union\n",
        "    buffered = vectors.map(lambda f: f.buffer(20))  # 20m buffer\n",
        "    union_geom = buffered.geometry().dissolve()\n",
        "    union_fc = ee.FeatureCollection([ee.Feature(union_geom)])\n",
        "\n",
        "    size = union_fc.size().getInfo()\n",
        "    if size == 0:\n",
        "        print(\"⚠️ No se detectaron polígonos.\")\n",
        "        return\n",
        "\n",
        "    Map.addLayer(ndwi.clip(geom), {'min': -1, 'max': 1, 'palette': ['white', 'blue']}, 'NDWI')\n",
        "    Map.addLayer(water_mask_int.clip(geom).selfMask(), {'palette': 'blue'}, 'Water Mask')\n",
        "    Map.addLayer(union_fc, {'color': 'cyan'}, 'Water Polygons')\n",
        "\n",
        "    print(f\"✅ {size} polígonos fusionados generados.\")\n",
        "\n",
        "    # Exportación\n",
        "    export_name = f'agua_{img_date.replace(\"-\", \"\")}_ndwi{int(ndwi_threshold*100)}'\n",
        "    task = ee.batch.Export.table.toDrive(\n",
        "        collection=union_fc,\n",
        "        description=export_name,\n",
        "        folder='EarthEngine',\n",
        "        fileNamePrefix=export_name,\n",
        "        fileFormat='GeoJSON'\n",
        "    )\n",
        "    task.start()\n",
        "    print(f\"🚀 Exportando a Drive como: {export_name}.geojson → /EarthEngine\")\n",
        "\n",
        "# Slider reaction\n",
        "ndwi_slider.observe(lambda change: extract_water_polygons(ndwi_slider.value), names='value')\n",
        "\n",
        "# Dibujo\n",
        "def on_draw_callback(target, action, geo_json):\n",
        "    global current_roi\n",
        "    geom_type = geo_json.get('geometry', {}).get('type')\n",
        "    if geom_type in ['Polygon', 'Rectangle']:\n",
        "        current_roi = geemap.geojson_to_ee(geo_json)\n",
        "        extract_water_polygons(ndwi_slider.value)\n",
        "    else:\n",
        "        print(\"⚠️ Usá solo polígono o rectángulo.\")\n",
        "\n",
        "Map.draw_control.on_draw(on_draw_callback)\n",
        "Map\n",
        "\n"
      ]
    }
  ],
  "metadata": {
    "colab": {
      "collapsed_sections": [],
      "name": "ee-api-colab-setup.ipynb",
      "provenance": [],
      "toc_visible": true
    },
    "kernelspec": {
      "display_name": "Python 3",
      "name": "python3"
    },
    "language_info": {
      "codemirror_mode": {
        "name": "ipython",
        "version": 3
      },
      "file_extension": ".py",
      "mimetype": "text/x-python",
      "name": "python",
      "nbconvert_exporter": "python",
      "pygments_lexer": "ipython3",
      "version": "3.13.5"
    }
  },
  "nbformat": 4,
  "nbformat_minor": 0
}
