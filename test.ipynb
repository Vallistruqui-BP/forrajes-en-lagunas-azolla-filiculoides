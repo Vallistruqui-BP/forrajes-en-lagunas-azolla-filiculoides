{
 "cells": [
  {
   "cell_type": "code",
   "execution_count": 5,
   "id": "137be06f",
   "metadata": {},
   "outputs": [
    {
     "data": {
      "text/html": [
       "\n",
       "            <style>\n",
       "                .geemap-dark {\n",
       "                    --jp-widgets-color: white;\n",
       "                    --jp-widgets-label-color: white;\n",
       "                    --jp-ui-font-color1: white;\n",
       "                    --jp-layout-color2: #454545;\n",
       "                    background-color: #383838;\n",
       "                }\n",
       "\n",
       "                .geemap-dark .jupyter-button {\n",
       "                    --jp-layout-color3: #383838;\n",
       "                }\n",
       "\n",
       "                .geemap-colab {\n",
       "                    background-color: var(--colab-primary-surface-color, white);\n",
       "                }\n",
       "\n",
       "                .geemap-colab .jupyter-button {\n",
       "                    --jp-layout-color3: var(--colab-primary-surface-color, white);\n",
       "                }\n",
       "            </style>\n",
       "            "
      ],
      "text/plain": [
       "<IPython.core.display.HTML object>"
      ]
     },
     "metadata": {},
     "output_type": "display_data"
    },
    {
     "data": {
      "application/vnd.jupyter.widget-view+json": {
       "model_id": "a6dfa2dc00914bc984b4b2b51cdcf2d3",
       "version_major": 2,
       "version_minor": 0
      },
      "text/plain": [
       "Map(center=[-36.5, -60], controls=(WidgetControl(options=['position', 'transparent_bg'], widget=SearchDataGUI(…"
      ]
     },
     "metadata": {},
     "output_type": "display_data"
    },
    {
     "data": {
      "application/vnd.jupyter.widget-view+json": {
       "model_id": "0c45da54f7f146e4b120f39c4ae2d76f",
       "version_major": 2,
       "version_minor": 0
      },
      "text/plain": [
       "FloatSlider(value=0.2, continuous_update=False, description='NDWI Threshold:', max=0.5, min=0.1, step=0.01)"
      ]
     },
     "metadata": {},
     "output_type": "display_data"
    }
   ],
   "source": [
    "# 📌 CONFIGURACIÓN DEL PROYECTO\n",
    "\n",
    "# Umbral NDWI para detectar agua\n",
    "NDWI_THRESHOLD = 0.2\n",
    "\n",
    "# Tamaño del buffer (en metros) para agrupar polígonos cercanos\n",
    "BUFFER_SIZE = 20\n",
    "\n",
    "# Área mínima (en m²) de los polígonos a conservar\n",
    "MIN_POLYGON_AREA = 300\n",
    "\n",
    "# Porcentaje máximo de nubes permitido\n",
    "CLOUD_COVER_MAX = 10\n",
    "\n",
    "# Colección Sentinel a usar\n",
    "SENTINEL_COLLECTION = 'COPERNICUS/S2_SR_HARMONIZED'\n",
    "\n",
    "# Carpeta de exportación en Google Drive\n",
    "EXPORT_FOLDER = 'Azolla Filiculoides - Geojson Lagunas'\n",
    "\n",
    "# Activar suavizado individual de polígonos (cierra huecos internos sin unir lagos entre sí)\n",
    "SMOOTH_POLYGONS = True\n",
    "SMOOTH_BUFFER_SIZE = 40  # ⬅️ ayuda a cerrar huecos internos\n",
    "\n",
    "# 📦 Imports\n",
    "import ee\n",
    "import geemap\n",
    "import ipywidgets as widgets\n",
    "from IPython.display import display\n",
    "from ipyleaflet import WidgetControl\n",
    "from ipywidgets import HTML\n",
    "\n",
    "# 🌍 Inicialización Earth Engine\n",
    "try:\n",
    "    ee.Initialize()\n",
    "except:\n",
    "    ee.Authenticate()\n",
    "    ee.Initialize()\n",
    "\n",
    "# 🗺️ Mapa base\n",
    "Map = geemap.Map(center=[-36.5, -60], zoom=4)\n",
    "Map.add_basemap('Esri.WorldImagery')\n",
    "display(Map)\n",
    "\n",
    "# 🎚️ NDWI Slider\n",
    "ndwi_slider = widgets.FloatSlider(\n",
    "    value=NDWI_THRESHOLD, min=0.1, max=0.5, step=0.01,\n",
    "    description='NDWI Threshold:', continuous_update=False\n",
    ")\n",
    "display(ndwi_slider)\n",
    "\n",
    "# 🧹 Función para limpiar capas previas\n",
    "def remove_ee_layers(map_obj):\n",
    "    ee_layers = [lyr for lyr in map_obj.layers if hasattr(lyr, 'ee_object')]\n",
    "    for lyr in ee_layers:\n",
    "        map_obj.remove_layer(lyr)\n",
    "\n",
    "# 🧠 FUNCIÓN PRINCIPAL: Dividir Argentina en 6 regiones y exportar una por una\n",
    "def extract_water_polygons_tiled(ndwi_threshold):\n",
    "    argentina = ee.FeatureCollection(\"FAO/GAUL/2015/level0\") \\\n",
    "        .filter(ee.Filter.eq('ADM0_NAME', 'Argentina')) \\\n",
    "        .geometry()\n",
    "\n",
    "    print(\"🌎 Dividiendo Argentina en 6 regiones para evitar timeout...\")\n",
    "\n",
    "    # ---- Helper: float-based range generator\n",
    "    def frange(start, stop, step):\n",
    "        while start < stop:\n",
    "            yield start\n",
    "            start += step\n",
    "\n",
    "    # ---- Obtener límites del país\n",
    "    bounds = argentina.bounds().coordinates().get(0).getInfo()\n",
    "    xmin, ymin = bounds[0][0], bounds[0][1]\n",
    "    xmax, ymax = bounds[2][0], bounds[2][1]\n",
    "\n",
    "    # ---- Crear 3x2 grilla (6 tiles)\n",
    "    nx, ny = 3, 2\n",
    "    dx = (xmax - xmin) / nx\n",
    "    dy = (ymax - ymin) / ny\n",
    "\n",
    "    xs = list(frange(xmin, xmax, dx))\n",
    "    ys = list(frange(ymin, ymax, dy))\n",
    "\n",
    "    tile_id = 0\n",
    "    for i, x in enumerate(xs[:-1]):\n",
    "        for j, y in enumerate(ys[:-1]):\n",
    "            rect = ee.Geometry.Rectangle([x, y, x + dx, y + dy])\n",
    "            region = rect.intersection(argentina, maxError=1000)\n",
    "            if region.area().getInfo() == 0:\n",
    "                continue\n",
    "\n",
    "            tile_id += 1\n",
    "            print(f\"🟦 Procesando tile {tile_id} (col {i+1}, fila {j+1})...\")\n",
    "\n",
    "            # 📦 Imagen Sentinel-2\n",
    "            s2 = ee.ImageCollection(SENTINEL_COLLECTION) \\\n",
    "                .filterBounds(region) \\\n",
    "                .filter(ee.Filter.lt('CLOUDY_PIXEL_PERCENTAGE', CLOUD_COVER_MAX)) \\\n",
    "                .sort('system:time_start', False) \\\n",
    "                .first()\n",
    "\n",
    "            if s2 is None:\n",
    "                print(f\"⚠️ No se encontró imagen válida para tile {tile_id}\")\n",
    "                continue\n",
    "\n",
    "            img_date = s2.date().format('YYYY-MM-dd').getInfo()\n",
    "\n",
    "            # 💧 NDWI\n",
    "            ndwi = s2.normalizedDifference(['B3', 'B8']).rename('NDWI')\n",
    "            water_mask = ndwi.gt(ndwi_threshold)\n",
    "            water_mask_int = water_mask.updateMask(water_mask).multiply(1).toInt()\n",
    "\n",
    "            # 🔹 Vectorización\n",
    "            vectors = water_mask_int.reduceToVectors(\n",
    "                geometry=region,\n",
    "                scale=30,\n",
    "                geometryType='polygon',\n",
    "                eightConnected=True,\n",
    "                bestEffort=True,\n",
    "                maxPixels=1e13\n",
    "            )\n",
    "\n",
    "            vectors = vectors.map(lambda f: f.set('area', f.geometry().area(1)))\n",
    "            vectors = vectors.filter(ee.Filter.gt('area', MIN_POLYGON_AREA))\n",
    "\n",
    "            # 🔁 Suavizado de polígonos\n",
    "            if SMOOTH_POLYGONS:\n",
    "                def smooth_and_fill(f):\n",
    "                    g = f.geometry().buffer(BUFFER_SIZE).buffer(-BUFFER_SIZE)\n",
    "                    return ee.Feature(g).copyProperties(f)\n",
    "                vectors = vectors.map(smooth_and_fill)\n",
    "\n",
    "            export_name = f'agua_ARG_tile{tile_id}_{img_date.replace(\"-\", \"\")}_ndwi{int(ndwi_threshold*100)}'\n",
    "            task = ee.batch.Export.table.toDrive(\n",
    "                collection=vectors,\n",
    "                description=export_name,\n",
    "                folder=EXPORT_FOLDER,\n",
    "                fileNamePrefix=export_name,\n",
    "                fileFormat='GeoJSON'\n",
    "            )\n",
    "            task.start()\n",
    "            print(f\"🚀 Tile {tile_id} exportado a Drive como {export_name}.geojson\")\n",
    "\n",
    "    print(f\"✅ Proceso completo. {tile_id} tiles exportados a Drive.\")\n",
    "\n",
    "# 🎯 Ejecutar manualmente o con el slider\n",
    "ndwi_slider.observe(lambda change: extract_water_polygons_tiled(ndwi_slider.value), names='value')\n",
    "\n",
    "# Para ejecutar directamente sin usar el slider:\n",
    "# extract_water_polygons_tiled(0.2)\n"
   ]
  },
  {
   "cell_type": "code",
   "execution_count": 8,
   "id": "36e339da",
   "metadata": {},
   "outputs": [
    {
     "data": {
      "text/html": [
       "\n",
       "            <style>\n",
       "                .geemap-dark {\n",
       "                    --jp-widgets-color: white;\n",
       "                    --jp-widgets-label-color: white;\n",
       "                    --jp-ui-font-color1: white;\n",
       "                    --jp-layout-color2: #454545;\n",
       "                    background-color: #383838;\n",
       "                }\n",
       "\n",
       "                .geemap-dark .jupyter-button {\n",
       "                    --jp-layout-color3: #383838;\n",
       "                }\n",
       "\n",
       "                .geemap-colab {\n",
       "                    background-color: var(--colab-primary-surface-color, white);\n",
       "                }\n",
       "\n",
       "                .geemap-colab .jupyter-button {\n",
       "                    --jp-layout-color3: var(--colab-primary-surface-color, white);\n",
       "                }\n",
       "            </style>\n",
       "            "
      ],
      "text/plain": [
       "<IPython.core.display.HTML object>"
      ]
     },
     "metadata": {},
     "output_type": "display_data"
    },
    {
     "name": "stdout",
     "output_type": "stream",
     "text": [
      "🌎 Dividiendo Argentina en 6 regiones para evitar timeout...\n",
      "🟦 Procesando tile 1 (col 1, fila 1)...\n"
     ]
    },
    {
     "ename": "EEException",
     "evalue": "Request had insufficient authentication scopes.",
     "output_type": "error",
     "traceback": [
      "\u001b[31m---------------------------------------------------------------------------\u001b[39m",
      "\u001b[31mHttpError\u001b[39m                                 Traceback (most recent call last)",
      "\u001b[36mFile \u001b[39m\u001b[32m~\\AppData\\Local\\Packages\\PythonSoftwareFoundation.Python.3.13_qbz5n2kfra8p0\\LocalCache\\local-packages\\Python313\\site-packages\\ee\\data.py:408\u001b[39m, in \u001b[36m_execute_cloud_call\u001b[39m\u001b[34m(call, num_retries)\u001b[39m\n\u001b[32m    407\u001b[39m \u001b[38;5;28;01mtry\u001b[39;00m:\n\u001b[32m--> \u001b[39m\u001b[32m408\u001b[39m   \u001b[38;5;28;01mreturn\u001b[39;00m \u001b[43mcall\u001b[49m\u001b[43m.\u001b[49m\u001b[43mexecute\u001b[49m\u001b[43m(\u001b[49m\u001b[43mnum_retries\u001b[49m\u001b[43m=\u001b[49m\u001b[43mnum_retries\u001b[49m\u001b[43m)\u001b[49m\n\u001b[32m    409\u001b[39m \u001b[38;5;28;01mexcept\u001b[39;00m googleapiclient.errors.HttpError \u001b[38;5;28;01mas\u001b[39;00m e:\n",
      "\u001b[36mFile \u001b[39m\u001b[32m~\\AppData\\Local\\Packages\\PythonSoftwareFoundation.Python.3.13_qbz5n2kfra8p0\\LocalCache\\local-packages\\Python313\\site-packages\\googleapiclient\\_helpers.py:130\u001b[39m, in \u001b[36mpositional.<locals>.positional_decorator.<locals>.positional_wrapper\u001b[39m\u001b[34m(*args, **kwargs)\u001b[39m\n\u001b[32m    129\u001b[39m         logger.warning(message)\n\u001b[32m--> \u001b[39m\u001b[32m130\u001b[39m \u001b[38;5;28;01mreturn\u001b[39;00m \u001b[43mwrapped\u001b[49m\u001b[43m(\u001b[49m\u001b[43m*\u001b[49m\u001b[43margs\u001b[49m\u001b[43m,\u001b[49m\u001b[43m \u001b[49m\u001b[43m*\u001b[49m\u001b[43m*\u001b[49m\u001b[43mkwargs\u001b[49m\u001b[43m)\u001b[49m\n",
      "\u001b[36mFile \u001b[39m\u001b[32m~\\AppData\\Local\\Packages\\PythonSoftwareFoundation.Python.3.13_qbz5n2kfra8p0\\LocalCache\\local-packages\\Python313\\site-packages\\googleapiclient\\http.py:938\u001b[39m, in \u001b[36mHttpRequest.execute\u001b[39m\u001b[34m(self, http, num_retries)\u001b[39m\n\u001b[32m    937\u001b[39m \u001b[38;5;28;01mif\u001b[39;00m resp.status >= \u001b[32m300\u001b[39m:\n\u001b[32m--> \u001b[39m\u001b[32m938\u001b[39m     \u001b[38;5;28;01mraise\u001b[39;00m HttpError(resp, content, uri=\u001b[38;5;28mself\u001b[39m.uri)\n\u001b[32m    939\u001b[39m \u001b[38;5;28;01mreturn\u001b[39;00m \u001b[38;5;28mself\u001b[39m.postproc(resp, content)\n",
      "\u001b[31mHttpError\u001b[39m: <HttpError 403 when requesting https://earthengine.googleapis.com/v1/projects/1003217534410/table:export?alt=json returned \"Request had insufficient authentication scopes.\". Details: \"[{'@type': 'type.googleapis.com/google.rpc.ErrorInfo', 'reason': 'ACCESS_TOKEN_SCOPE_INSUFFICIENT', 'domain': 'googleapis.com', 'metadata': {'service': 'earthengine.googleapis.com', 'method': 'google.earthengine.v1.EarthEngine.ExportTable'}}]\">",
      "\nDuring handling of the above exception, another exception occurred:\n",
      "\u001b[31mEEException\u001b[39m                               Traceback (most recent call last)",
      "\u001b[36mCell\u001b[39m\u001b[36m \u001b[39m\u001b[32mIn[8]\u001b[39m\u001b[32m, line 1\u001b[39m\n\u001b[32m----> \u001b[39m\u001b[32m1\u001b[39m \u001b[43mextract_water_polygons_tiled\u001b[49m\u001b[43m(\u001b[49m\u001b[32;43m0.2\u001b[39;49m\u001b[43m)\u001b[49m\n",
      "\u001b[36mCell\u001b[39m\u001b[36m \u001b[39m\u001b[32mIn[5]\u001b[39m\u001b[32m, line 142\u001b[39m, in \u001b[36mextract_water_polygons_tiled\u001b[39m\u001b[34m(ndwi_threshold)\u001b[39m\n\u001b[32m    134\u001b[39m         export_name = \u001b[33mf\u001b[39m\u001b[33m'\u001b[39m\u001b[33magua_ARG_tile\u001b[39m\u001b[38;5;132;01m{\u001b[39;00mtile_id\u001b[38;5;132;01m}\u001b[39;00m\u001b[33m_\u001b[39m\u001b[38;5;132;01m{\u001b[39;00mimg_date.replace(\u001b[33m\"\u001b[39m\u001b[33m-\u001b[39m\u001b[33m\"\u001b[39m,\u001b[38;5;250m \u001b[39m\u001b[33m\"\u001b[39m\u001b[33m\"\u001b[39m)\u001b[38;5;132;01m}\u001b[39;00m\u001b[33m_ndwi\u001b[39m\u001b[38;5;132;01m{\u001b[39;00m\u001b[38;5;28mint\u001b[39m(ndwi_threshold*\u001b[32m100\u001b[39m)\u001b[38;5;132;01m}\u001b[39;00m\u001b[33m'\u001b[39m\n\u001b[32m    135\u001b[39m         task = ee.batch.Export.table.toDrive(\n\u001b[32m    136\u001b[39m             collection=vectors,\n\u001b[32m    137\u001b[39m             description=export_name,\n\u001b[32m   (...)\u001b[39m\u001b[32m    140\u001b[39m             fileFormat=\u001b[33m'\u001b[39m\u001b[33mGeoJSON\u001b[39m\u001b[33m'\u001b[39m\n\u001b[32m    141\u001b[39m         )\n\u001b[32m--> \u001b[39m\u001b[32m142\u001b[39m         \u001b[43mtask\u001b[49m\u001b[43m.\u001b[49m\u001b[43mstart\u001b[49m\u001b[43m(\u001b[49m\u001b[43m)\u001b[49m\n\u001b[32m    143\u001b[39m         \u001b[38;5;28mprint\u001b[39m(\u001b[33mf\u001b[39m\u001b[33m\"\u001b[39m\u001b[33m🚀 Tile \u001b[39m\u001b[38;5;132;01m{\u001b[39;00mtile_id\u001b[38;5;132;01m}\u001b[39;00m\u001b[33m exportado a Drive como \u001b[39m\u001b[38;5;132;01m{\u001b[39;00mexport_name\u001b[38;5;132;01m}\u001b[39;00m\u001b[33m.geojson\u001b[39m\u001b[33m\"\u001b[39m)\n\u001b[32m    145\u001b[39m \u001b[38;5;28mprint\u001b[39m(\u001b[33mf\u001b[39m\u001b[33m\"\u001b[39m\u001b[33m✅ Proceso completo. \u001b[39m\u001b[38;5;132;01m{\u001b[39;00mtile_id\u001b[38;5;132;01m}\u001b[39;00m\u001b[33m tiles exportados a Drive.\u001b[39m\u001b[33m\"\u001b[39m)\n",
      "\u001b[36mFile \u001b[39m\u001b[32m~\\AppData\\Local\\Packages\\PythonSoftwareFoundation.Python.3.13_qbz5n2kfra8p0\\LocalCache\\local-packages\\Python313\\site-packages\\ee\\batch.py:149\u001b[39m, in \u001b[36mTask.start\u001b[39m\u001b[34m(self)\u001b[39m\n\u001b[32m    147\u001b[39m   result = data.exportMap(\u001b[38;5;28mself\u001b[39m._request_id, \u001b[38;5;28mself\u001b[39m.config)\n\u001b[32m    148\u001b[39m \u001b[38;5;28;01melif\u001b[39;00m \u001b[38;5;28mself\u001b[39m.task_type == Task.Type.EXPORT_TABLE:\n\u001b[32m--> \u001b[39m\u001b[32m149\u001b[39m   result = \u001b[43mdata\u001b[49m\u001b[43m.\u001b[49m\u001b[43mexportTable\u001b[49m\u001b[43m(\u001b[49m\u001b[38;5;28;43mself\u001b[39;49m\u001b[43m.\u001b[49m\u001b[43m_request_id\u001b[49m\u001b[43m,\u001b[49m\u001b[43m \u001b[49m\u001b[38;5;28;43mself\u001b[39;49m\u001b[43m.\u001b[49m\u001b[43mconfig\u001b[49m\u001b[43m)\u001b[49m\n\u001b[32m    150\u001b[39m \u001b[38;5;28;01melif\u001b[39;00m \u001b[38;5;28mself\u001b[39m.task_type == Task.Type.EXPORT_VIDEO:\n\u001b[32m    151\u001b[39m   result = data.exportVideo(\u001b[38;5;28mself\u001b[39m._request_id, \u001b[38;5;28mself\u001b[39m.config)\n",
      "\u001b[36mFile \u001b[39m\u001b[32m~\\AppData\\Local\\Packages\\PythonSoftwareFoundation.Python.3.13_qbz5n2kfra8p0\\LocalCache\\local-packages\\Python313\\site-packages\\ee\\data.py:1792\u001b[39m, in \u001b[36mexportTable\u001b[39m\u001b[34m(request_id, params)\u001b[39m\n\u001b[32m   1771\u001b[39m \u001b[38;5;250m\u001b[39m\u001b[33;03m\"\"\"Starts a table export task running.\u001b[39;00m\n\u001b[32m   1772\u001b[39m \n\u001b[32m   1773\u001b[39m \u001b[33;03mThis is a low-level method. The higher-level ee.batch.Export.table object\u001b[39;00m\n\u001b[32m   (...)\u001b[39m\u001b[32m   1789\u001b[39m \u001b[33;03m  If you are using the cloud API, this will be an Operation.\u001b[39;00m\n\u001b[32m   1790\u001b[39m \u001b[33;03m\"\"\"\u001b[39;00m\n\u001b[32m   1791\u001b[39m params = params.copy()\n\u001b[32m-> \u001b[39m\u001b[32m1792\u001b[39m \u001b[38;5;28;01mreturn\u001b[39;00m \u001b[43m_prepare_and_run_export\u001b[49m\u001b[43m(\u001b[49m\n\u001b[32m   1793\u001b[39m \u001b[43m    \u001b[49m\u001b[43mrequest_id\u001b[49m\u001b[43m,\u001b[49m\u001b[43m \u001b[49m\u001b[43mparams\u001b[49m\u001b[43m,\u001b[49m\u001b[43m \u001b[49m\u001b[43m_get_cloud_projects\u001b[49m\u001b[43m(\u001b[49m\u001b[43m)\u001b[49m\u001b[43m.\u001b[49m\u001b[43mtable\u001b[49m\u001b[43m(\u001b[49m\u001b[43m)\u001b[49m\u001b[43m.\u001b[49m\u001b[43mexport\u001b[49m\n\u001b[32m   1794\u001b[39m \u001b[43m\u001b[49m\u001b[43m)\u001b[49m\n",
      "\u001b[36mFile \u001b[39m\u001b[32m~\\AppData\\Local\\Packages\\PythonSoftwareFoundation.Python.3.13_qbz5n2kfra8p0\\LocalCache\\local-packages\\Python313\\site-packages\\ee\\data.py:1909\u001b[39m, in \u001b[36m_prepare_and_run_export\u001b[39m\u001b[34m(request_id, params, export_endpoint)\u001b[39m\n\u001b[32m   1906\u001b[39m   params[\u001b[33m'\u001b[39m\u001b[33mexpression\u001b[39m\u001b[33m'\u001b[39m] = serializer.encode(\n\u001b[32m   1907\u001b[39m       params[\u001b[33m'\u001b[39m\u001b[33mexpression\u001b[39m\u001b[33m'\u001b[39m], for_cloud_api=\u001b[38;5;28;01mTrue\u001b[39;00m)\n\u001b[32m   1908\u001b[39m num_retries = _max_retries \u001b[38;5;28;01mif\u001b[39;00m request_id \u001b[38;5;28;01melse\u001b[39;00m \u001b[32m0\u001b[39m\n\u001b[32m-> \u001b[39m\u001b[32m1909\u001b[39m \u001b[38;5;28;01mreturn\u001b[39;00m \u001b[43m_execute_cloud_call\u001b[49m\u001b[43m(\u001b[49m\n\u001b[32m   1910\u001b[39m \u001b[43m    \u001b[49m\u001b[43mexport_endpoint\u001b[49m\u001b[43m(\u001b[49m\u001b[43mproject\u001b[49m\u001b[43m=\u001b[49m\u001b[43m_get_projects_path\u001b[49m\u001b[43m(\u001b[49m\u001b[43m)\u001b[49m\u001b[43m,\u001b[49m\u001b[43m \u001b[49m\u001b[43mbody\u001b[49m\u001b[43m=\u001b[49m\u001b[43mparams\u001b[49m\u001b[43m)\u001b[49m\u001b[43m,\u001b[49m\n\u001b[32m   1911\u001b[39m \u001b[43m    \u001b[49m\u001b[43mnum_retries\u001b[49m\u001b[43m=\u001b[49m\u001b[43mnum_retries\u001b[49m\u001b[43m)\u001b[49m\n",
      "\u001b[36mFile \u001b[39m\u001b[32m~\\AppData\\Local\\Packages\\PythonSoftwareFoundation.Python.3.13_qbz5n2kfra8p0\\LocalCache\\local-packages\\Python313\\site-packages\\ee\\data.py:410\u001b[39m, in \u001b[36m_execute_cloud_call\u001b[39m\u001b[34m(call, num_retries)\u001b[39m\n\u001b[32m    408\u001b[39m   \u001b[38;5;28;01mreturn\u001b[39;00m call.execute(num_retries=num_retries)\n\u001b[32m    409\u001b[39m \u001b[38;5;28;01mexcept\u001b[39;00m googleapiclient.errors.HttpError \u001b[38;5;28;01mas\u001b[39;00m e:\n\u001b[32m--> \u001b[39m\u001b[32m410\u001b[39m   \u001b[38;5;28;01mraise\u001b[39;00m _translate_cloud_exception(e)\n",
      "\u001b[31mEEException\u001b[39m: Request had insufficient authentication scopes."
     ]
    }
   ],
   "source": [
    "extract_water_polygons_tiled(0.2)"
   ]
  },
  {
   "cell_type": "code",
   "execution_count": 7,
   "id": "423f2710",
   "metadata": {},
   "outputs": [
    {
     "data": {
      "text/html": [
       "\n",
       "            <style>\n",
       "                .geemap-dark {\n",
       "                    --jp-widgets-color: white;\n",
       "                    --jp-widgets-label-color: white;\n",
       "                    --jp-ui-font-color1: white;\n",
       "                    --jp-layout-color2: #454545;\n",
       "                    background-color: #383838;\n",
       "                }\n",
       "\n",
       "                .geemap-dark .jupyter-button {\n",
       "                    --jp-layout-color3: #383838;\n",
       "                }\n",
       "\n",
       "                .geemap-colab {\n",
       "                    background-color: var(--colab-primary-surface-color, white);\n",
       "                }\n",
       "\n",
       "                .geemap-colab .jupyter-button {\n",
       "                    --jp-layout-color3: var(--colab-primary-surface-color, white);\n",
       "                }\n",
       "            </style>\n",
       "            "
      ],
      "text/plain": [
       "<IPython.core.display.HTML object>"
      ]
     },
     "metadata": {},
     "output_type": "display_data"
    }
   ],
   "source": [
    "import ee\n",
    "ee.Authenticate(scopes=['https://www.googleapis.com/auth/earthengine',\n",
    "                        'https://www.googleapis.com/auth/drive'])\n",
    "ee.Initialize()"
   ]
  }
 ],
 "metadata": {
  "kernelspec": {
   "display_name": "Python 3",
   "language": "python",
   "name": "python3"
  },
  "language_info": {
   "codemirror_mode": {
    "name": "ipython",
    "version": 3
   },
   "file_extension": ".py",
   "mimetype": "text/x-python",
   "name": "python",
   "nbconvert_exporter": "python",
   "pygments_lexer": "ipython3",
   "version": "3.13.6"
  }
 },
 "nbformat": 4,
 "nbformat_minor": 5
}
